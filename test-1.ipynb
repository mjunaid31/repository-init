{
 "cells": [
  {
   "cell_type": "code",
   "execution_count": 1,
   "metadata": {},
   "outputs": [
    {
     "name": "stdout",
     "output_type": "stream",
     "text": [
      "[5 7 9]\n"
     ]
    }
   ],
   "source": [
    "import numpy as np\n",
    "\n",
    "array1 = np.array([1, 2, 3])\n",
    "array2 = np.array([4, 5, 6])\n",
    "\n",
    "result = array1 + array2\n",
    "\n",
    "print(result)\n"
   ]
  },
  {
   "cell_type": "code",
   "execution_count": null,
   "metadata": {},
   "outputs": [],
   "source": []
  },
  {
   "cell_type": "code",
   "execution_count": 2,
   "metadata": {},
   "outputs": [
    {
     "name": "stdout",
     "output_type": "stream",
     "text": [
      "[104   7   9]\n"
     ]
    }
   ],
   "source": [
    "import numpy as np\n",
    "\n",
    "array1 = np.array([100, 2, 3])\n",
    "array2 = np.array([4, 5, 6])\n",
    "\n",
    "result = array1 + array2\n",
    "\n",
    "print(result)\n"
   ]
  },
  {
   "cell_type": "code",
   "execution_count": 3,
   "metadata": {},
   "outputs": [
    {
     "name": "stdout",
     "output_type": "stream",
     "text": [
      "[[21 24 27]\n",
      " [30 33 36]]\n"
     ]
    }
   ],
   "source": [
    "import numpy as np\n",
    "\n",
    "matrix1 = np.array([[1, 2, 3], [4, 5, 6]])\n",
    "matrix2 = np.array([[7, 8, 9], [10, 11, 12]])\n",
    "matrix3 = np.array([[13, 14, 15], [16, 17, 18]])\n",
    "\n",
    "result = matrix1 + matrix2 + matrix3\n",
    "\n",
    "print(result)\n"
   ]
  },
  {
   "cell_type": "code",
   "execution_count": 4,
   "metadata": {},
   "outputs": [
    {
     "name": "stdout",
     "output_type": "stream",
     "text": [
      "[[1 2 3]\n",
      " [4 5 6]]\n",
      "[[ 7  8  9]\n",
      " [10 11 12]]\n"
     ]
    }
   ],
   "source": [
    "import numpy as np\n",
    "\n",
    "matrix1 = np.array([[1, 2, 3], [4, 5, 6]])\n",
    "matrix2 = np.array([[7, 8, 9], [10, 11, 12]])\n",
    "\n",
    "print(matrix1)\n",
    "print(matrix2)\n"
   ]
  },
  {
   "cell_type": "code",
   "execution_count": 5,
   "metadata": {},
   "outputs": [
    {
     "name": "stdout",
     "output_type": "stream",
     "text": [
      "[[ 8 10 12]\n",
      " [14 16 18]]\n"
     ]
    }
   ],
   "source": [
    "print(matrix1 + matrix2)"
   ]
  },
  {
   "cell_type": "code",
   "execution_count": 6,
   "metadata": {},
   "outputs": [
    {
     "name": "stdout",
     "output_type": "stream",
     "text": [
      "[[-6 -6 -6]\n",
      " [-6 -6 -6]]\n"
     ]
    }
   ],
   "source": [
    "print(matrix1 - matrix2)"
   ]
  },
  {
   "cell_type": "code",
   "execution_count": 1,
   "metadata": {},
   "outputs": [
    {
     "data": {
      "image/png": "[encoded data removed]",
      "text/plain": [
       "<Figure size 640x480 with 1 Axes>"
      ]
     },
     "metadata": {},
     "output_type": "display_data"
    }
   ],
   "source": [
    "import numpy as np\n",
    "import matplotlib.pyplot as plt\n",
    "\n",
    "# Parameters\n",
    "L = 1.0  # Length of the domain\n",
    "T = 0.1  # Total time\n",
    "N = 100  # Number of grid points\n",
    "M = 1000  # Number of time steps\n",
    "alpha = 0.01  # Thermal diffusivity\n",
    "\n",
    "# Grid spacing\n",
    "dx = L / (N - 1)\n",
    "dt = T / M\n",
    "\n",
    "# Initialize the grid\n",
    "x = np.linspace(0, L, N)\n",
    "u = np.zeros(N)\n",
    "\n",
    "# Initial condition\n",
    "u[0] = 0.0\n",
    "u[-1] = 0.0\n",
    "\n",
    "# Crank-Nicolson method\n",
    "for n in range(1, M + 1):\n",
    "    # Construct the tridiagonal matrix\n",
    "    A = np.zeros((N, N))\n",
    "    b = np.zeros(N)\n",
    "\n",
    "    A[0, 0] = 1.0\n",
    "    A[-1, -1] = 1.0\n",
    "\n",
    "    for i in range(1, N - 1):\n",
    "        A[i, i - 1] = -0.5 * alpha * dt / dx**2\n",
    "        A[i, i] = 1.0 + alpha * dt / dx**2\n",
    "        A[i, i + 1] = -0.5 * alpha * dt / dx**2\n",
    "\n",
    "        b[i] = u[i] + 0.5 * alpha * dt / dx**2 * (u[i - 1] - 2 * u[i] + u[i + 1])\n",
    "\n",
    "    # Solve the system of equations\n",
    "    u = np.linalg.solve(A, b)\n",
    "\n",
    "# Plot the solution\n",
    "plt.plot(x, u)\n",
    "plt.xlabel('x')\n",
    "plt.ylabel('u')\n",
    "plt.title('Crank-Nicolson Method')\n",
    "plt.show()\n"
   ]
  }
 ],
 "metadata": {
  "kernelspec": {
   "display_name": "Python 3",
   "language": "python",
   "name": "python3"
  },
  "language_info": {
   "codemirror_mode": {
    "name": "ipython",
    "version": 3
   },
   "file_extension": ".py",
   "mimetype": "text/x-python",
   "name": "python",
   "nbconvert_exporter": "python",
   "pygments_lexer": "ipython3",
   "version": "3.12.1"
  }
 },
 "nbformat": 4,
 "nbformat_minor": 2
}
